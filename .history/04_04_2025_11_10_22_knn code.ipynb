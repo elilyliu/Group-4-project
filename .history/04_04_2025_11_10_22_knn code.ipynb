{
 "cells": [
  {
   "cell_type": "markdown",
   "id": "ea631699-f729-41bc-9477-5934e7118e8f",
   "metadata": {},
   "source": [
    "Introduction\n",
    "\n",
    "Video games have become a significant part of modern entertainment, with millions of players worldwide engaging in various gaming platforms. Understanding player behavior is crucial for game developers and researchers, as it helps optimize resources, improve user experience, and tailor marketing strategies. In this project, we analyze data from a Minecraft research server operated by a UBC Computer Science research group led by Frank Wood. The dataset records player characteristics and session details, providing insights into gaming habits.\n",
    "\n",
    "Our specific research question is: Can game experience, age, and gender predict whether a player is a high contributor (played more than 3 hours)? High contributors are valuable because they generate more gameplay data, which is essential for research purposes. By identifying factors that correlate with high playtime, the research team can better target recruitment efforts and allocate server resources efficiently.\n",
    "\n",
    "Dataset Description\n",
    "The data consists of two structured files:\n",
    "\n",
    "- players.csv (197 unique players)\n",
    "\n",
    "experience: Categorical skill level (Pro, Veteran, Regular, Amateur, Beginner)\n",
    "\n",
    "subscribe: Boolean (whether the player subscribed to a newsletter)\n",
    "\n",
    "hashedEmail: Unique identifier (anonymized)\n",
    "\n",
    "played_hours: Total hours played (numeric)\n",
    "\n",
    "name: Player’s chosen username (String)\n",
    "\n",
    "gender: Categorical (Male, Female, Non-binary)\n",
    "\n",
    "age: Numeric (player’s age in years)\n",
    "\n",
    "\n",
    "- sessions.csv (1,536 gameplay sessions)\n",
    "\n",
    "hashedEmail: Unique player identifier Unique identifier (anonymized)\n",
    "\n",
    "start_time / end_time: Timestamps of gameplay sessions\n",
    "\n",
    "original_start_time / original_end_time: Unix epoch timestamps"
   ]
  },
  {
   "cell_type": "code",
   "execution_count": null,
   "id": "4c5dd43e-f237-40a2-b6a8-597aaaeba27a",
   "metadata": {},
   "outputs": [],
   "source": [
    "library(tidyverse)\n",
    "library(tidymodels)\n",
    "library(dplyr)\n",
    "library(themis)\n",
    "library(cowplot)\n",
    "options(repr.matrix.max.rows = 5)\n",
    "\n",
    "players_url <- \"https://raw.githubusercontent.com/elilyliu/Group-4-project/refs/heads/main/players.csv\"\n",
    "sessions_url <- \"https://raw.githubusercontent.com/elilyliu/Group-4-project/refs/heads/main/sessions.csv\"\n",
    "\n",
    "players <- read_csv(players_url) |> rename(age = Age)\n",
    "sessions <- read_csv(sessions_url)\n"
   ]
  },
  {
   "cell_type": "code",
   "execution_count": null,
   "id": "f78eca40-ea4e-4ae3-ae24-298dd15866ea",
   "metadata": {},
   "outputs": [],
   "source": [
    "players <- players |>\n",
    "    mutate(experience = factor(experience, levels = c(\"Beginner\", \"Amateur\", \"Regular\", \"Pro\", \"Veteran\")),\n",
    "           gender = as_factor(gender),\n",
    "           contributor_type = case_when(\n",
    "              played_hours >= 3 ~ \"High\",\n",
    "              played_hours < 3 & played_hours >= 1 ~ \"Medium\",\n",
    "              played_hours < 1 ~ \"Low\")) |>\n",
    "    mutate(contributor_type = factor(contributor_type)) |>\n",
    "    drop_na()\n",
    "cat(\"Figure 1: Player Dataset\\n\")\n",
    "players"
   ]
  },
  {
   "cell_type": "markdown",
   "id": "28898030-27de-4903-8a03-9369326cec35",
   "metadata": {},
   "source": [
    "Summarizing the players dataset, the majority of players seem to have an Amateur experience level, however, the experience level that played for the most amount of total hours are regular players (Fig 2). Classifying high contributors to be those who played for 3 or more hours, only 19 players in the dataset are considered to be high contributors with an average age of 19.8 years (Fig. 3). The Majority of players are low contributors (152). Because of these imbalances in data, when performing our classification prediction, it is necessary to scale the data."
   ]
  },
  {
   "cell_type": "code",
   "execution_count": null,
   "id": "a50b2cfc-6d47-4e6d-afd1-f18d152babff",
   "metadata": {},
   "outputs": [],
   "source": [
    "avg_experience <- players |>\n",
    "    group_by(experience) |>\n",
    "    summarize(average_played_hours = mean(played_hours, na.rm = TRUE),\n",
    "             average_age = mean(age),\n",
    "             count = n())\n",
    "\n",
    "contributors <- players |>\n",
    "    group_by(contributor_type) |>\n",
    "    summarise(count = n(), \n",
    "             average_age = mean(age))\n",
    "\n",
    "cat(\"Figure 2:Summarized Player Dataset Information\\n\")\n",
    "avg_experience\n",
    "cat(\"Figure 3:Summarized Contibutor type Information\\n\")\n",
    "contributors"
   ]
  },
  {
   "cell_type": "markdown",
   "id": "75e5b7c3-f943-4917-b5de-5202cc6050b4",
   "metadata": {},
   "source": [
    "Visualizing this data, we see that there appears to be a connection between total hours played and a players' experience level, age, and gender identity (Fig. 4). It appears that 'regular' players around the age range of 15-25 and who identify as male contributed the most amount of hours played collectively. However, to identify whether they are the types of players to contribute the most data, we need to perform k-nearest neighbour classification."
   ]
  },
  {
   "cell_type": "code",
   "execution_count": null,
   "id": "f37dd69f-e68b-4393-a8c9-2c1985c14c47",
   "metadata": {},
   "outputs": [],
   "source": [
    "player_plot_experience <- ggplot(players, aes(x=experience, y=played_hours)) +\n",
    "    geom_bar(stat=\"identity\") +\n",
    "    labs(x=\"Experience level\", y=\"Total Played Hours\", title=\"Total Hours Played per Game Experience Level\")\n",
    "\n",
    "player_plot_age <- ggplot(players, aes(x=age, y=played_hours)) +\n",
    "    geom_point() +\n",
    "    labs(x=\"Age (years)\", y=\"Total Played Hours\", title=\"Total Hours Played by Age\")\n",
    "\n",
    "player_plot_gender <- ggplot(players, aes(x=gender, y=played_hours)) +\n",
    "    geom_bar(stat=\"identity\") +\n",
    "    labs(x=\"Reported Gender\", y=\"Total Played Hours\", title=\"Total Hours Played by Reported Gender Identity\")\n",
    "\n",
    "options(repr.plot.width=17, repr.plot.height=6)\n",
    "cat(\"Figure 4: Visualizations of potential factors in the Players Dataset\\n\")\n",
    "plot_grid(player_plot_experience, player_plot_age, player_plot_gender, ncol = 3)"
   ]
  },
  {
   "cell_type": "markdown",
   "id": "7961fcfe-9b27-47f1-b527-c78f2e8d9d50",
   "metadata": {},
   "source": [
    "To perform k-nn classification, we first split the data into a training set (70% of the data) and a testing set (30% of the data). In doing so, we'll have data available to both train the model and evaluate its accuracy. The training data will be used while building the classifier, which will then be used to predict the labels in the test set (##CITE TEXTBOOK CH. 6.3##).\n",
    "Due to the imbalance in the factors of our data, we scale our predictors to have a standard deviation of 1 and a mean of 0. As shown previously, there is also a significant imbalance in the distribution of the classification types, where Low contributors severely outnumber High and Medium contributors. To account for this, we upscale to ensure the different types are on equal levels. \n",
    "<br>\n",
    "We then use 5-fold cross validation to further split our training set into 5 smaller groups to evaluate the accuracy of our classifier, testing different values of k from 1 to 10 and finally choosing the value for k with the highest accuracy."
   ]
  },
  {
   "cell_type": "code",
   "execution_count": null,
   "id": "59ebe371-05ea-41dd-821f-819166a0bb4a",
   "metadata": {},
   "outputs": [],
   "source": [
    "set.seed(2222) \n",
    "selected_players <- players  |>\n",
    "    mutate(experience_label = as.numeric(experience),\n",
    "          gender_label = as.numeric(gender)) |>\n",
    "    select(contributor_type, gender, gender_label, experience, experience_label, age)\n",
    "\n",
    "player_split <- initial_split(selected_players, prop = 0.7, strata = contributor_type)  \n",
    "player_train <- training(player_split)   \n",
    "player_test <- testing(player_split)\n",
    "\n",
    "player_recipe <- recipe(contributor_type ~ experience_label + age + gender_label, data = player_train) |>\n",
    "    step_normalize(all_predictors()) |>\n",
    "    step_upsample(contributor_type, over_ratio = 1, skip = TRUE)\n",
    "\n",
    "knn_tune <- nearest_neighbor(weight_func=\"rectangular\", neighbors = tune()) |>\n",
    "    set_engine(\"kknn\") |>\n",
    "    set_mode(\"classification\")\n",
    "\n",
    "player_vfold <- vfold_cv(player_train, v = 5, strata = contributor_type)\n",
    "k_vals <- tibble(neighbors = seq(from = 1, to = 10, by = 1))\n",
    "\n",
    "knn_results <- workflow() |>\n",
    "    add_recipe(player_recipe) |>\n",
    "    add_model(knn_tune) |>\n",
    "    tune_grid(resamples = player_vfold, grid = k_vals) |>\n",
    "    collect_metrics() |>\n",
    "    filter(.metric == \"accuracy\")\n",
    "cross_val_plot <- ggplot(knn_results, aes(x=neighbors, y=mean)) +\n",
    "    geom_point() +\n",
    "    geom_line() +\n",
    "    labs(x=\"Number of neighbors (K)\", y=\"Accuracy\", title = \"Accuracy vs Number of Neighbors\")\n",
    "\n",
    "options(repr.plot.width=8, repr.plot.height=6)\n",
    "cat(\"Figure 5: Visualization of the accuracy for different values of k\\n\")\n",
    "cross_val_plot"
   ]
  },
  {
   "cell_type": "markdown",
   "id": "9436358c-820d-4f87-b1e4-91aef65f000a",
   "metadata": {},
   "source": [
    "Analyzing the plot created from the results of the cross validation, it was found that k=2 resulted in the highest accuracy compared to other values (Fig. 5), therefore 2 is the optimal k value to use for our model.\n",
    "<br>\n",
    "With this newfound value, we'll create our K nearest neighbors classifier that predicts classifications based on the 2 nearest neighbors."
   ]
  },
  {
   "cell_type": "code",
   "execution_count": null,
   "id": "bd7645eb-9820-4931-a453-0865aec9abaf",
   "metadata": {},
   "outputs": [],
   "source": [
    "player_spec <- nearest_neighbor(weight_func = \"rectangular\", neighbors = 2) |>\n",
    "    set_engine(\"kknn\") |>\n",
    "    set_mode(\"classification\")\n",
    "\n",
    "player_fit <- workflow() |>\n",
    "    add_recipe(player_recipe) |>\n",
    "    add_model(player_spec) |>\n",
    "    fit(data = player_train)\n",
    "\n",
    "player_predictions <- predict(player_fit, player_test) |>\n",
    "    bind_cols(player_test)\n",
    "\n",
    "mnist_metrics <- player_predictions |>\n",
    "    metrics(truth = contributor_type, estimate = .pred_class)\n",
    "\n",
    "player_mat <- player_predictions |> \n",
    "      conf_mat(truth = contributor_type, estimate = .pred_class)\n",
    "cat(\"Figure 6: Accuracy metric for result of classification model\\n\")\n",
    "mnist_metrics\n",
    "cat(\"Figure 7: Confusion matrix for result of classification model\\n\")\n",
    "player_mat"
   ]
  },
  {
   "cell_type": "markdown",
   "id": "d4ff2bf4-d0ef-4ea7-8254-ad4d1e547d26",
   "metadata": {},
   "source": [
    "After creating our model and testing with our testing data, the classifier resulted in about 54% accuracy where the model is more likely to predict low, often misclassifying both high and medium (Fig. 6 and Fig. 7). However, after visualizing the data, the model suggests that the players how are more likely to contribute high amounts of data (played for more hours) are newer players like Amateur and Regular in the age range of young teen to young adult (12-23) (Fig.8). The model also suggests that those who identify as male are also more likely to be high contributors of data. These results closely match the trends from the data before the classification model (Fig.4)."
   ]
  },
  {
   "cell_type": "code",
   "execution_count": null,
   "id": "cbb84b3b-e0a4-46a1-9b50-370fbf9621b7",
   "metadata": {},
   "outputs": [],
   "source": [
    "contributor_summary <- player_predictions |>\n",
    "  group_by(experience_label, age, gender_label, experience, gender, .pred_class) |>\n",
    "  summarise(count = n(), .groups = \"drop\") |>\n",
    "  pivot_wider(names_from = .pred_class, values_from = count, values_fill = 0)\n",
    "\n",
    "experience_summary <- ggplot(contributor_summary, aes(x = experience, y = High)) +\n",
    "    geom_bar(stat = \"identity\") +\n",
    "    labs(title = \"High Contributors by Experience Level\", \n",
    "         x = \"Experience Level\", \n",
    "         y = \"Amount of High Contributors\")\n",
    "\n",
    "age_summary <- ggplot(contributor_summary, aes(x = age, y = High)) +\n",
    "    geom_bar(stat = \"identity\") +\n",
    "    labs(title = \"High Contributors by Age\", \n",
    "         x = \"Age Range\", \n",
    "         y = \"Amount of High Contributors\") \n",
    "\n",
    "gender_summary <- ggplot(contributor_summary, aes(x = gender, y = High)) +\n",
    "    geom_bar(stat = \"identity\") +\n",
    "    labs(title = \"High Contributors by Age\", \n",
    "         x = \"Declared Gender\", \n",
    "         y = \"Amount of High Contributors\") \n",
    "\n",
    "options(repr.plot.width=17, repr.plot.height=6)\n",
    "cat(\"Figure 8: Visualization of summary of classification results\\n\")\n",
    "plot_grid(experience_summary,age_summary, gender_summary, ncol = 3)"
   ]
  },
  {
   "cell_type": "code",
   "execution_count": null,
   "id": "6189d632-566b-4c79-9bc3-f15d85a1e2a3",
   "metadata": {},
   "outputs": [],
   "source": []
  }
 ],
 "metadata": {
  "kernelspec": {
   "display_name": "R",
   "language": "R",
   "name": "ir"
  },
  "language_info": {
   "codemirror_mode": "r",
   "file_extension": ".r",
   "mimetype": "text/x-r-source",
   "name": "R",
   "pygments_lexer": "r",
   "version": "4.3.3"
  }
 },
 "nbformat": 4,
 "nbformat_minor": 5
}
