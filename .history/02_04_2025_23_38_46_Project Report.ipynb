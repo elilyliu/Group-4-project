{
 "cells": [
  {
   "cell_type": "code",
   "execution_count": null,
   "id": "4c5dd43e-f237-40a2-b6a8-597aaaeba27a",
   "metadata": {},
   "outputs": [],
   "source": [
    "library(tidyverse)\n",
    "library(tidymodels)\n",
    "library(themis)\n",
    "library(dplyr)\n",
    "options(repr.matrix.rows = 5)\n",
    "\n",
    "players_url <- \"https://raw.githubusercontent.com/elilyliu/Group-4-project/refs/heads/main/players.csv\"\n",
    "sessions_url <- \"https://raw.githubusercontent.com/elilyliu/Group-4-project/refs/heads/main/sessions.csv\"\n",
    "\n",
    "players <- read_csv(players_url) |> rename(age = Age)\n",
    "sessions <- read_csv(sessions_url)\n",
    "\n",
    "players\n",
    "sessions"
   ]
  },
  {
   "cell_type": "code",
   "execution_count": null,
   "id": "f78eca40-ea4e-4ae3-ae24-298dd15866ea",
   "metadata": {},
   "outputs": [],
   "source": [
    "players <- players |>\n",
    "    mutate(experience = factor(experience, levels = c(\"Beginner\", \"Amateur\", \"Regular\", \"Pro\", \"Veteran\")),\n",
    "           name = as_factor(name),\n",
    "           gender = as_factor(name),\n",
    "           contributor_type = case_when(\n",
    "              played_hours > 3 ~ \"High\",\n",
    "              played_hours <= 3 & played_hours > 1 ~ \"Medium\",\n",
    "              played_hours <= 1 ~ \"Low\")) |>\n",
    "    mutate(contributor_type = factor(contributor_type)) |>\n",
    "    drop_na()\n",
    "\n",
    "session_counts\n",
    "players"
   ]
  },
  {
   "cell_type": "code",
   "execution_count": null,
   "id": "a6261e56-34dc-4c77-a537-aa6081cef7e9",
   "metadata": {},
   "outputs": [],
   "source": [
    "selected_players <- players  |>\n",
    "    mutate(experience_label = as.numeric(experience)) |>\n",
    "    select(experience_label, age, contributor_type)\n",
    "\n",
    "selected_players"
   ]
  },
  {
   "cell_type": "code",
   "execution_count": null,
   "id": "59ebe371-05ea-41dd-821f-819166a0bb4a",
   "metadata": {},
   "outputs": [],
   "source": [
    "player_split <- initial_split(selected_players, prop = 0.7, strata = contributor_type)  \n",
    "player_train <- training(player_split)   \n",
    "player_test <- testing(player_split)\n",
    "\n",
    "player_recipe <- recipe(contributor_type ~ . , data = player_train) |>\n",
    "    step_normalize(all_predictors()) |>\n",
    "    step_upsample(contributor_type, over_ratio = 2, skip = TRUE)\n",
    "\n",
    "knn_tune <- nearest_neighbor(weight_func=\"rectangular\", neighbors = tune()) |>\n",
    "    set_engine(\"kknn\") |>\n",
    "    set_mode(\"classification\")\n",
    "\n",
    "## use 3 fold because of lack of data\n",
    "player_vfold <- vfold_cv(player_train, v = 3, strata = contributor_type)\n",
    "\n",
    "k_vals <- tibble(neighbors = seq(from = 1, to = 10, by = 1))\n",
    "\n",
    "knn_results <- workflow() |>\n",
    "    add_recipe(player_recipe) |>\n",
    "    add_model(knn_tune) |>\n",
    "    tune_grid(resamples = player_vfold, grid = k_vals) |>\n",
    "    collect_metrics() |>\n",
    "    filter(.metric == \"accuracy\")\n",
    "cross_val_plot <- ggplot(knn_results, aes(x=neighbors, y=mean)) +\n",
    "    geom_point() +\n",
    "    geom_line() +\n",
    "    labs(x=\"Number of neighbors (K)\", y=\"Accuracy\", title = \"Accuracy vs Number of Neighbors\")\n",
    "\n",
    "knn_results\n",
    "\n",
    "cross_val_plot"
   ]
  }
 ],
 "metadata": {
  "kernelspec": {
   "display_name": "R",
   "language": "R",
   "name": "ir"
  },
  "language_info": {
   "codemirror_mode": "r",
   "file_extension": ".r",
   "mimetype": "text/x-r-source",
   "name": "R",
   "pygments_lexer": "r",
   "version": "4.3.3"
  }
 },
 "nbformat": 4,
 "nbformat_minor": 5
}
